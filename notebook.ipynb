{
 "cells": [
  {
   "cell_type": "code",
   "execution_count": null,
   "id": "faf5d87c",
   "metadata": {},
   "outputs": [
    {
     "ename": "",
     "evalue": "",
     "output_type": "error",
     "traceback": [
      "\u001b[1;31mRunning cells with 'Python 3.10.6' requires the ipykernel package.\n",
      "\u001b[1;31m<a href='command:jupyter.createPythonEnvAndSelectController'>Create a Python Environment</a> with the required packages.\n",
      "\u001b[1;31mOr install 'ipykernel' using the command: 'c:/Users/Yolal/AppData/Local/Programs/Python/Python310/python.exe -m pip install ipykernel -U --user --force-reinstall'"
     ]
    }
   ],
   "source": [
    "def crear_video_dinamico(rutas_imagenes, rutas_audios):\n",
    "    videos_individuales = []\n",
    "\n",
    "    for i in range(len(rutas_imagenes)):\n",
    "        output_clip = f\"static/videos/clip_{i}.mp4\"\n",
    "        subprocess.run([\n",
    "            \"ffmpeg\", \"-y\",\n",
    "            \"-loop\", \"1\", \"-i\", rutas_imagenes[i],\n",
    "            \"-i\", rutas_audios[i],\n",
    "            \"-c:v\", \"libx264\", \"-tune\", \"stillimage\",\n",
    "            \"-c:a\", \"aac\", \"-b:a\", \"192k\",\n",
    "            \"-pix_fmt\", \"yuv420p\",\n",
    "            \"-shortest\", \"-movflags\", \"+faststart\",\n",
    "            output_clip\n",
    "        ])\n",
    "        videos_individuales.append(output_clip)\n",
    "\n",
    "    lista_txt = \"static/videos/lista_videos.txt\"\n",
    "    with open(lista_txt, \"w\") as f:\n",
    "        for v in videos_individuales:\n",
    "            f.write(f\"file '{v}'\\n\")\n",
    "\n",
    "    video_final = \"static/videos/curso_final.mp4\"\n",
    "    subprocess.run([\n",
    "        \"ffmpeg\", \"-y\", \"-f\", \"concat\", \"-safe\", \"0\", \"-i\", lista_txt,\n",
    "        \"-c\", \"copy\", \"-movflags\", \"+faststart\", video_final\n",
    "    ])\n",
    "\n",
    "    return video_final\n"
   ]
  },
  {
   "cell_type": "code",
   "execution_count": null,
   "id": "a0c36e57",
   "metadata": {},
   "outputs": [],
   "source": [
    "@app.route('/test_openai_connection', methods=['GET'])\n",
    "def test_openai_connection():\n",
    "    try:\n",
    "        response = openai.Completion.create(\n",
    "            model=\"gpt-3.5-turbo\",\n",
    "            prompt=\"Hello, OpenAI!\",\n",
    "            max_tokens=5\n",
    "        )\n",
    "        return f\"OpenAI connection successful! Response: {response.choices[0].text}\"\n",
    "    except Exception as e:\n",
    "        return f\"Error: {str(e)}\"\n"
   ]
  },
  {
   "cell_type": "code",
   "execution_count": null,
   "id": "8727e06d",
   "metadata": {},
   "outputs": [],
   "source": [
    "def generate_image(prompt, id):\n",
    "    result = openai.Image.create(prompt=prompt, n=1, size=\"1024x1024\")\n",
    "    image_url = result['data'][0]['url']\n",
    "    image_path = os.path.join(\"static/imagenes\", f\"{id}.png\")\n",
    "    response = requests.get(image_url, timeout=30)\n",
    "    if response.status_code == 200:\n",
    "        with open(image_path, \"wb\") as f:\n",
    "            f.write(response.content)\n",
    "    return image_path"
   ]
  },
  {
   "cell_type": "code",
   "execution_count": null,
   "id": "c61e05f3",
   "metadata": {},
   "outputs": [],
   "source": [
    "def generate_audio(texto, id):\n",
    "    \"\"\"\n",
    "    Genera un MP3 desde un texto con gTTS, lo guarda en static/audios/{id}.mp3\n",
    "    y comprueba en consola que no esté vacío.\n",
    "    \"\"\"\n",
    "    audio_file = os.path.join(\"static\", \"audios\", f\"{id}.mp3\")\n",
    "    tts = gTTS(text=texto, lang='es')\n",
    "    tts.save(audio_file)\n",
    "\n",
    "    # DEBUG: comprueba que realmente se escribió algo\n",
    "    size = os.path.getsize(audio_file)\n",
    "    print(f\"[DEBUG] Audio guardado en {audio_file}, {size} bytes\")\n",
    "\n",
    "    return audio_file\n",
    "\n",
    "# Función para generar video con FFmpeg\n",
    "def generar_video_con_ffmpeg(imagen, audio, output_video):\n",
    "    audio_duration = get_audio_duration(audio)\n",
    "    command = [\n",
    "        'ffmpeg', '-y', '-loop', '1', '-framerate', '2', '-t', str(audio_duration),\n",
    "        '-i', imagen, '-i', audio, '-c:v', 'libx264', '-preset', 'veryfast',\n",
    "        '-c:a', 'aac', '-b:a', '192k', '-pix_fmt', 'yuv420p', '-shortest', output_video\n",
    "    ]\n",
    "    subprocess.run(command, check=True)\n"
   ]
  }
 ],
 "metadata": {
  "kernelspec": {
   "display_name": "Python 3",
   "language": "python",
   "name": "python3"
  },
  "language_info": {
   "name": "python",
   "version": "3.10.6"
  }
 },
 "nbformat": 4,
 "nbformat_minor": 5
}
